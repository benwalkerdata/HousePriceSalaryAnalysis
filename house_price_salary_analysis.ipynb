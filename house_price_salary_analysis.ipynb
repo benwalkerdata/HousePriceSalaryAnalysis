{
 "cells": [
  {
   "cell_type": "markdown",
   "id": "358b53ea-e752-4ae7-a697-c74917a85daf",
   "metadata": {},
   "source": [
    "<h1>House Price and Average Salary analysis</h1>\n",
    "\n",
    "by Ben Walker, 27 July 2023, First Draft.\n",
    "\n",
    "This is notebook analyse's a dataset from Kaggle which contains average house prices and salaries from 1975 to 2020."
   ]
  },
  {
   "cell_type": "code",
   "execution_count": 1,
   "id": "26ab9a79-f0f3-45b8-8946-d857e45add72",
   "metadata": {},
   "outputs": [
    {
     "name": "stdout",
     "output_type": "stream",
     "text": [
      "Requirement already satisfied: plotly in c:\\users\\bewalker\\appdata\\local\\anaconda3\\lib\\site-packages (5.16.1)\n",
      "Requirement already satisfied: tenacity>=6.2.0 in c:\\users\\bewalker\\appdata\\local\\anaconda3\\lib\\site-packages (from plotly) (8.0.1)\n",
      "Requirement already satisfied: packaging in c:\\users\\bewalker\\appdata\\local\\anaconda3\\lib\\site-packages (from plotly) (22.0)\n",
      "Note: you may need to restart the kernel to use updated packages.\n"
     ]
    },
    {
     "name": "stderr",
     "output_type": "stream",
     "text": [
      "WARNING: Ignoring invalid distribution -lotly (c:\\users\\bewalker\\appdata\\local\\anaconda3\\lib\\site-packages)\n",
      "WARNING: Ignoring invalid distribution -lotly (c:\\users\\bewalker\\appdata\\local\\anaconda3\\lib\\site-packages)\n",
      "WARNING: Ignoring invalid distribution -lotly (c:\\users\\bewalker\\appdata\\local\\anaconda3\\lib\\site-packages)\n",
      "WARNING: Ignoring invalid distribution -lotly (c:\\users\\bewalker\\appdata\\local\\anaconda3\\lib\\site-packages)\n",
      "WARNING: Ignoring invalid distribution -lotly (c:\\users\\bewalker\\appdata\\local\\anaconda3\\lib\\site-packages)\n",
      "WARNING: Ignoring invalid distribution -lotly (c:\\users\\bewalker\\appdata\\local\\anaconda3\\lib\\site-packages)\n"
     ]
    }
   ],
   "source": [
    "#Module Imports\n",
    "import pandas as pd\n",
    "import numpy as np\n",
    "import plotly.express as px\n",
    "import seaborn as sns\n",
    "import matplotlib.pyplot as plt\n",
    "import datetime\n",
    "import math\n",
    "from scipy.stats import spearmanr\n",
    "\n",
    "#Formatting Options\n",
    "%matplotlib inline\n",
    "%pip install --upgrade plotly\n",
    "pd.options.display.float_format = '{:,.2f}'.format"
   ]
  },
  {
   "cell_type": "markdown",
   "id": "38f9d066-9e78-4ffc-ac28-a16f65f0cedf",
   "metadata": {},
   "source": [
    "<h2>Getting and preparing the data</h2>\n",
    "The data has been obtained from Kaggle and includes average House prices and salaries in the UK between 1975 and 2020. In this section the dataset will be reviewed and cleaned to ensure the data is in a good state to analyse. Redundant columns will be removed, data types updated and the data will be checked for consistency.\n",
    "\n",
    "The first two cells import the dataset from the CSV file and shows the top 5 rows."
   ]
  },
  {
   "cell_type": "code",
   "execution_count": 2,
   "id": "d072768e-4b13-4534-a9a4-c0a573b1cf13",
   "metadata": {},
   "outputs": [],
   "source": [
    "#This provides a constant variable for the CSV.\n",
    "LOCATION1 = 'Average_UK_houseprices_and_salary.csv'\n",
    "LOCATION2 = 'Income_by_age_and_gender.csv'"
   ]
  },
  {
   "cell_type": "code",
   "execution_count": 3,
   "id": "37ca9521-bfe5-469c-bf11-c86008cd5219",
   "metadata": {},
   "outputs": [
    {
     "data": {
      "text/html": [
       "<div>\n",
       "<style scoped>\n",
       "    .dataframe tbody tr th:only-of-type {\n",
       "        vertical-align: middle;\n",
       "    }\n",
       "\n",
       "    .dataframe tbody tr th {\n",
       "        vertical-align: top;\n",
       "    }\n",
       "\n",
       "    .dataframe thead th {\n",
       "        text-align: right;\n",
       "    }\n",
       "</style>\n",
       "<table border=\"1\" class=\"dataframe\">\n",
       "  <thead>\n",
       "    <tr style=\"text-align: right;\">\n",
       "      <th></th>\n",
       "      <th>Year</th>\n",
       "      <th>Average house price adj. by inflation (pounds)</th>\n",
       "      <th>Median Salary adj. by inflation (pounds)</th>\n",
       "      <th>Unnamed: 3</th>\n",
       "    </tr>\n",
       "  </thead>\n",
       "  <tbody>\n",
       "    <tr>\n",
       "      <th>0</th>\n",
       "      <td>1975</td>\n",
       "      <td>94983</td>\n",
       "      <td>NaN</td>\n",
       "      <td>NaN</td>\n",
       "    </tr>\n",
       "    <tr>\n",
       "      <th>1</th>\n",
       "      <td>1976</td>\n",
       "      <td>89281</td>\n",
       "      <td>NaN</td>\n",
       "      <td>NaN</td>\n",
       "    </tr>\n",
       "    <tr>\n",
       "      <th>2</th>\n",
       "      <td>1977</td>\n",
       "      <td>85028</td>\n",
       "      <td>NaN</td>\n",
       "      <td>NaN</td>\n",
       "    </tr>\n",
       "    <tr>\n",
       "      <th>3</th>\n",
       "      <td>1978</td>\n",
       "      <td>100519</td>\n",
       "      <td>NaN</td>\n",
       "      <td>NaN</td>\n",
       "    </tr>\n",
       "    <tr>\n",
       "      <th>4</th>\n",
       "      <td>1979</td>\n",
       "      <td>112067</td>\n",
       "      <td>NaN</td>\n",
       "      <td>NaN</td>\n",
       "    </tr>\n",
       "  </tbody>\n",
       "</table>\n",
       "</div>"
      ],
      "text/plain": [
       "   Year  Average house price adj. by inflation (pounds)  \\\n",
       "0  1975                                           94983   \n",
       "1  1976                                           89281   \n",
       "2  1977                                           85028   \n",
       "3  1978                                          100519   \n",
       "4  1979                                          112067   \n",
       "\n",
       "   Median Salary adj. by inflation (pounds)  Unnamed: 3  \n",
       "0                                       NaN         NaN  \n",
       "1                                       NaN         NaN  \n",
       "2                                       NaN         NaN  \n",
       "3                                       NaN         NaN  \n",
       "4                                       NaN         NaN  "
      ]
     },
     "execution_count": 3,
     "metadata": {},
     "output_type": "execute_result"
    }
   ],
   "source": [
    "#Create the dataset and display the first five rows.\n",
    "df_house = pd.read_csv(LOCATION1)\n",
    "df_house.head()"
   ]
  },
  {
   "cell_type": "code",
   "execution_count": 4,
   "id": "474e4a2d-2978-41c3-b121-759774482b72",
   "metadata": {},
   "outputs": [
    {
     "data": {
      "text/html": [
       "<div>\n",
       "<style scoped>\n",
       "    .dataframe tbody tr th:only-of-type {\n",
       "        vertical-align: middle;\n",
       "    }\n",
       "\n",
       "    .dataframe tbody tr th {\n",
       "        vertical-align: top;\n",
       "    }\n",
       "\n",
       "    .dataframe thead th {\n",
       "        text-align: right;\n",
       "    }\n",
       "</style>\n",
       "<table border=\"1\" class=\"dataframe\">\n",
       "  <thead>\n",
       "    <tr style=\"text-align: right;\">\n",
       "      <th></th>\n",
       "      <th>Age group</th>\n",
       "      <th>Median salary (pounds)</th>\n",
       "      <th>Gender</th>\n",
       "    </tr>\n",
       "  </thead>\n",
       "  <tbody>\n",
       "    <tr>\n",
       "      <th>0</th>\n",
       "      <td>18 to 21</td>\n",
       "      <td>18392</td>\n",
       "      <td>Male</td>\n",
       "    </tr>\n",
       "    <tr>\n",
       "      <th>1</th>\n",
       "      <td>22 to 29</td>\n",
       "      <td>26856</td>\n",
       "      <td>Male</td>\n",
       "    </tr>\n",
       "    <tr>\n",
       "      <th>2</th>\n",
       "      <td>30 to 39</td>\n",
       "      <td>34210</td>\n",
       "      <td>Male</td>\n",
       "    </tr>\n",
       "    <tr>\n",
       "      <th>3</th>\n",
       "      <td>40 to 49</td>\n",
       "      <td>38463</td>\n",
       "      <td>Male</td>\n",
       "    </tr>\n",
       "    <tr>\n",
       "      <th>4</th>\n",
       "      <td>50 to 59</td>\n",
       "      <td>36000</td>\n",
       "      <td>Male</td>\n",
       "    </tr>\n",
       "    <tr>\n",
       "      <th>5</th>\n",
       "      <td>60 and over</td>\n",
       "      <td>30944</td>\n",
       "      <td>Male</td>\n",
       "    </tr>\n",
       "    <tr>\n",
       "      <th>6</th>\n",
       "      <td>18 to 21</td>\n",
       "      <td>17005</td>\n",
       "      <td>Female</td>\n",
       "    </tr>\n",
       "    <tr>\n",
       "      <th>7</th>\n",
       "      <td>22 to 29</td>\n",
       "      <td>25115</td>\n",
       "      <td>Female</td>\n",
       "    </tr>\n",
       "    <tr>\n",
       "      <th>8</th>\n",
       "      <td>30 to 39</td>\n",
       "      <td>30540</td>\n",
       "      <td>Female</td>\n",
       "    </tr>\n",
       "    <tr>\n",
       "      <th>9</th>\n",
       "      <td>40 to 49</td>\n",
       "      <td>31679</td>\n",
       "      <td>Female</td>\n",
       "    </tr>\n",
       "    <tr>\n",
       "      <th>10</th>\n",
       "      <td>50 to 59</td>\n",
       "      <td>28811</td>\n",
       "      <td>Female</td>\n",
       "    </tr>\n",
       "    <tr>\n",
       "      <th>11</th>\n",
       "      <td>60 and over</td>\n",
       "      <td>24850</td>\n",
       "      <td>Female</td>\n",
       "    </tr>\n",
       "  </tbody>\n",
       "</table>\n",
       "</div>"
      ],
      "text/plain": [
       "      Age group  Median salary (pounds)  Gender\n",
       "0      18 to 21                   18392    Male\n",
       "1      22 to 29                   26856    Male\n",
       "2      30 to 39                   34210    Male\n",
       "3      40 to 49                   38463    Male\n",
       "4      50 to 59                   36000    Male\n",
       "5   60 and over                   30944    Male\n",
       "6      18 to 21                   17005  Female\n",
       "7      22 to 29                   25115  Female\n",
       "8      30 to 39                   30540  Female\n",
       "9      40 to 49                   31679  Female\n",
       "10     50 to 59                   28811  Female\n",
       "11  60 and over                   24850  Female"
      ]
     },
     "execution_count": 4,
     "metadata": {},
     "output_type": "execute_result"
    }
   ],
   "source": [
    "#Create the dataset and display the first five rows.\n",
    "df_income = pd.read_csv(LOCATION2)\n",
    "df_income"
   ]
  },
  {
   "cell_type": "code",
   "execution_count": 5,
   "id": "f5d7b004-2830-4fc1-a0c0-d7659397adb1",
   "metadata": {},
   "outputs": [
    {
     "name": "stdout",
     "output_type": "stream",
     "text": [
      "Year                                                int64\n",
      "Average house price adj. by inflation (pounds)      int64\n",
      "Median Salary adj. by inflation (pounds)          float64\n",
      "Unnamed: 3                                        float64\n",
      "dtype: object\n"
     ]
    }
   ],
   "source": [
    "#Find column datatypes for df_house\n",
    "print(df_house.dtypes)"
   ]
  },
  {
   "cell_type": "code",
   "execution_count": 6,
   "id": "75771863-91c8-4880-b0eb-27325b379233",
   "metadata": {},
   "outputs": [
    {
     "name": "stdout",
     "output_type": "stream",
     "text": [
      "Age group                 object\n",
      "Median salary (pounds)     int64\n",
      "Gender                    object\n",
      "dtype: object\n"
     ]
    }
   ],
   "source": [
    "#Find column datatypes for df_income\n",
    "print(df_income.dtypes)"
   ]
  },
  {
   "cell_type": "code",
   "execution_count": 7,
   "id": "e9759461-17f7-4560-a75e-843257e40f55",
   "metadata": {},
   "outputs": [
    {
     "name": "stdout",
     "output_type": "stream",
     "text": [
      "Age group                 string\n",
      "Median salary (pounds)     int64\n",
      "Gender                    string\n",
      "dtype: object\n"
     ]
    }
   ],
   "source": [
    "#Change the \"object\" datatypes to something more useful, in this case String.\n",
    "for column in df_income.columns:\n",
    "    if df_income[column].dtype.kind == \"O\":\n",
    "        df_income[column] = df_income[column].astype('string')\n",
    "print(df_income.dtypes)"
   ]
  },
  {
   "cell_type": "code",
   "execution_count": 8,
   "id": "faa33158-ef21-4883-b86d-4999574e1d1f",
   "metadata": {},
   "outputs": [
    {
     "data": {
      "text/plain": [
       "Year                                               0\n",
       "Average house price adj. by inflation (pounds)     0\n",
       "Median Salary adj. by inflation (pounds)          24\n",
       "Unnamed: 3                                        46\n",
       "dtype: int64"
      ]
     },
     "execution_count": 8,
     "metadata": {},
     "output_type": "execute_result"
    }
   ],
   "source": [
    "#Find NULL values for df_house\n",
    "df_house.isnull().sum()"
   ]
  },
  {
   "cell_type": "code",
   "execution_count": 9,
   "id": "d098c839-b267-4d6d-a3d8-002a3e93d135",
   "metadata": {},
   "outputs": [
    {
     "data": {
      "text/plain": [
       "Age group                 0\n",
       "Median salary (pounds)    0\n",
       "Gender                    0\n",
       "dtype: int64"
      ]
     },
     "execution_count": 9,
     "metadata": {},
     "output_type": "execute_result"
    }
   ],
   "source": [
    "#Find NULL values for df_income\n",
    "df_income.isnull().sum()"
   ]
  },
  {
   "cell_type": "code",
   "execution_count": 44,
   "id": "55609dce-910d-4a79-bad6-463aacd7ca88",
   "metadata": {},
   "outputs": [
    {
     "ename": "TypeError",
     "evalue": "'DataFrame' object is not callable",
     "output_type": "error",
     "traceback": [
      "\u001b[1;31m---------------------------------------------------------------------------\u001b[0m",
      "\u001b[1;31mTypeError\u001b[0m                                 Traceback (most recent call last)",
      "Cell \u001b[1;32mIn[44], line 2\u001b[0m\n\u001b[0;32m      1\u001b[0m \u001b[38;5;66;03m#Review NULL values found in df_house\u001b[39;00m\n\u001b[1;32m----> 2\u001b[0m \u001b[43mdf_house\u001b[49m\u001b[43m(\u001b[49m\u001b[38;5;241;43m5\u001b[39;49m\u001b[43m)\u001b[49m\n",
      "\u001b[1;31mTypeError\u001b[0m: 'DataFrame' object is not callable"
     ]
    }
   ],
   "source": [
    "#Review NULL values found in df_house\n",
    "df_house(5)"
   ]
  },
  {
   "cell_type": "markdown",
   "id": "0b419655-1ec7-467d-9912-77370143ce88",
   "metadata": {},
   "source": [
    "As you can see from the df_house dataset above we do not have Median salary data for years 1975 to 2020. We also have a redundant column. in the following cells we will drop the redundant column and we will create a new dataset for the median salary just including data from 1999 to 2020."
   ]
  },
  {
   "cell_type": "code",
   "execution_count": 11,
   "id": "e76fc740-506a-43e0-9cfc-90a18e6c0f34",
   "metadata": {},
   "outputs": [
    {
     "name": "stdout",
     "output_type": "stream",
     "text": [
      "Index(['Year', 'Average house price adj. by inflation (pounds)',\n",
      "       'Median Salary adj. by inflation (pounds)'],\n",
      "      dtype='object')\n"
     ]
    }
   ],
   "source": [
    "#Drop redundant column from dataset\n",
    "df_house = df_house.drop('Unnamed: 3', axis=1)\n",
    "print(df_house.columns)"
   ]
  },
  {
   "cell_type": "code",
   "execution_count": 12,
   "id": "220b9e2a-ca38-4676-8f9c-f8c98ee57c78",
   "metadata": {},
   "outputs": [
    {
     "data": {
      "text/html": [
       "<div>\n",
       "<style scoped>\n",
       "    .dataframe tbody tr th:only-of-type {\n",
       "        vertical-align: middle;\n",
       "    }\n",
       "\n",
       "    .dataframe tbody tr th {\n",
       "        vertical-align: top;\n",
       "    }\n",
       "\n",
       "    .dataframe thead th {\n",
       "        text-align: right;\n",
       "    }\n",
       "</style>\n",
       "<table border=\"1\" class=\"dataframe\">\n",
       "  <thead>\n",
       "    <tr style=\"text-align: right;\">\n",
       "      <th></th>\n",
       "      <th>Year</th>\n",
       "      <th>Median Salary adj. by inflation (pounds)</th>\n",
       "    </tr>\n",
       "  </thead>\n",
       "  <tbody>\n",
       "    <tr>\n",
       "      <th>24</th>\n",
       "      <td>1999</td>\n",
       "      <td>31,551.55</td>\n",
       "    </tr>\n",
       "    <tr>\n",
       "      <th>25</th>\n",
       "      <td>2000</td>\n",
       "      <td>32,443.92</td>\n",
       "    </tr>\n",
       "    <tr>\n",
       "      <th>26</th>\n",
       "      <td>2001</td>\n",
       "      <td>33,357.50</td>\n",
       "    </tr>\n",
       "    <tr>\n",
       "      <th>27</th>\n",
       "      <td>2002</td>\n",
       "      <td>33,898.44</td>\n",
       "    </tr>\n",
       "    <tr>\n",
       "      <th>28</th>\n",
       "      <td>2003</td>\n",
       "      <td>34,155.19</td>\n",
       "    </tr>\n",
       "  </tbody>\n",
       "</table>\n",
       "</div>"
      ],
      "text/plain": [
       "    Year  Median Salary adj. by inflation (pounds)\n",
       "24  1999                                 31,551.55\n",
       "25  2000                                 32,443.92\n",
       "26  2001                                 33,357.50\n",
       "27  2002                                 33,898.44\n",
       "28  2003                                 34,155.19"
      ]
     },
     "execution_count": 12,
     "metadata": {},
     "output_type": "execute_result"
    }
   ],
   "source": [
    "df_salary = df_house.loc[df_house['Year'] >= 1999]\n",
    "df_salary = df_salary.drop('Average house price adj. by inflation (pounds)', axis=1)\n",
    "df_salary.head()"
   ]
  },
  {
   "cell_type": "code",
   "execution_count": 24,
   "id": "f546e4a2-62e9-4afc-88ed-356f86c2f2df",
   "metadata": {},
   "outputs": [
    {
     "data": {
      "text/html": [
       "<div>\n",
       "<style scoped>\n",
       "    .dataframe tbody tr th:only-of-type {\n",
       "        vertical-align: middle;\n",
       "    }\n",
       "\n",
       "    .dataframe tbody tr th {\n",
       "        vertical-align: top;\n",
       "    }\n",
       "\n",
       "    .dataframe thead th {\n",
       "        text-align: right;\n",
       "    }\n",
       "</style>\n",
       "<table border=\"1\" class=\"dataframe\">\n",
       "  <thead>\n",
       "    <tr style=\"text-align: right;\">\n",
       "      <th></th>\n",
       "      <th>Average House Price</th>\n",
       "    </tr>\n",
       "    <tr>\n",
       "      <th>Year</th>\n",
       "      <th></th>\n",
       "    </tr>\n",
       "  </thead>\n",
       "  <tbody>\n",
       "    <tr>\n",
       "      <th>1975</th>\n",
       "      <td>94983</td>\n",
       "    </tr>\n",
       "    <tr>\n",
       "      <th>1976</th>\n",
       "      <td>89281</td>\n",
       "    </tr>\n",
       "    <tr>\n",
       "      <th>1977</th>\n",
       "      <td>85028</td>\n",
       "    </tr>\n",
       "    <tr>\n",
       "      <th>1978</th>\n",
       "      <td>100519</td>\n",
       "    </tr>\n",
       "    <tr>\n",
       "      <th>1979</th>\n",
       "      <td>112067</td>\n",
       "    </tr>\n",
       "  </tbody>\n",
       "</table>\n",
       "</div>"
      ],
      "text/plain": [
       "      Average House Price\n",
       "Year                     \n",
       "1975                94983\n",
       "1976                89281\n",
       "1977                85028\n",
       "1978               100519\n",
       "1979               112067"
      ]
     },
     "execution_count": 24,
     "metadata": {},
     "output_type": "execute_result"
    }
   ],
   "source": [
    "#df_house = df_house.drop('Median Salary adj. by inflation (pounds)', axis = 1)\n",
    "df_house = df_house.rename(columns={\"Average house price adj. by inflation (pounds)\": \"Average House Price\"})\n",
    "df_house = df_house.set_index(\"Year\")\n",
    "df_house.head()"
   ]
  },
  {
   "cell_type": "markdown",
   "id": "509e616d-64d4-4d8c-8537-db516e516176",
   "metadata": {},
   "source": [
    "We now have three datasets. df_house which provides the average house prices for years 1975 to 2020. df_salary which provides median salary between years 1999 and 2020. Finally we have df_income which contains median salary vs age group and male/female."
   ]
  },
  {
   "cell_type": "markdown",
   "id": "52ec7a7e-e454-4207-a6ee-642a5ceb9561",
   "metadata": {},
   "source": [
    "<h1>Analysis</h1>\n",
    "\n",
    "The following questions will be answered in this section of the analysis.\n",
    "<ul>\n",
    "    <li>How have house prices changed over time?</li>\n",
    "    <li>How have Salaries changed over time?</li>\n",
    "    <li>Is there any correlation between average house prices and average salaries?</li>\n",
    "    <li>How do salaries for males differ from salaries for females?</li>\n",
    "    <li>How do salaries change by age group?</li>\n",
    "    <li>How do salaries for age groups compare between males and females?</li>\n",
    "    <li>What the multiplication factor of salary to house price?</li>\n",
    "    <li>How has the multiplication factor changed over time?</li>\n",
    "</ul>\n",
    "\n",
    "The following cells will analyse the data to produce answers to the questions above."
   ]
  },
  {
   "cell_type": "code",
   "execution_count": 30,
   "id": "1c7ff19b-94d7-494e-a2b4-461d42f2d925",
   "metadata": {},
   "outputs": [
    {
     "data": {
      "image/png": "[encoded data removed]",
      "text/plain": [
       "<Figure size 1000x600 with 1 Axes>"
      ]
     },
     "metadata": {},
     "output_type": "display_data"
    }
   ],
   "source": [
    "fig = plt.figure(figsize=(10,6))\n",
    "plt.plot(df_house.index, df_house['Average House Price'])\n",
    "plt.xlabel('Year')\n",
    "plt.ylabel('Average House Price')\n",
    "\n",
    "plt.show()\n"
   ]
  },
  {
   "cell_type": "code",
   "execution_count": 33,
   "id": "f26594b2-473b-4484-834a-4fe1fee5d79d",
   "metadata": {},
   "outputs": [
    {
     "ename": "KeyError",
     "evalue": "\"None of ['Year'] are in the columns\"",
     "output_type": "error",
     "traceback": [
      "\u001b[1;31m---------------------------------------------------------------------------\u001b[0m",
      "\u001b[1;31mKeyError\u001b[0m                                  Traceback (most recent call last)",
      "Cell \u001b[1;32mIn[33], line 2\u001b[0m\n\u001b[0;32m      1\u001b[0m df_salary \u001b[38;5;241m=\u001b[39m df_salary\u001b[38;5;241m.\u001b[39mrename(columns\u001b[38;5;241m=\u001b[39m{\u001b[38;5;124m\"\u001b[39m\u001b[38;5;124mMedian Salary adj. by inflation (pounds)\u001b[39m\u001b[38;5;124m\"\u001b[39m: \u001b[38;5;124m\"\u001b[39m\u001b[38;5;124mAverage Salary\u001b[39m\u001b[38;5;124m\"\u001b[39m})\n\u001b[1;32m----> 2\u001b[0m df_salary \u001b[38;5;241m=\u001b[39m \u001b[43mdf_salary\u001b[49m\u001b[38;5;241;43m.\u001b[39;49m\u001b[43mset_index\u001b[49m\u001b[43m(\u001b[49m\u001b[38;5;124;43m\"\u001b[39;49m\u001b[38;5;124;43mYear\u001b[39;49m\u001b[38;5;124;43m\"\u001b[39;49m\u001b[43m)\u001b[49m\n\u001b[0;32m      3\u001b[0m df_salary\u001b[38;5;241m.\u001b[39mhead(\u001b[38;5;241m5\u001b[39m)\n",
      "File \u001b[1;32m~\\AppData\\Local\\anaconda3\\lib\\site-packages\\pandas\\util\\_decorators.py:331\u001b[0m, in \u001b[0;36mdeprecate_nonkeyword_arguments.<locals>.decorate.<locals>.wrapper\u001b[1;34m(*args, **kwargs)\u001b[0m\n\u001b[0;32m    325\u001b[0m \u001b[38;5;28;01mif\u001b[39;00m \u001b[38;5;28mlen\u001b[39m(args) \u001b[38;5;241m>\u001b[39m num_allow_args:\n\u001b[0;32m    326\u001b[0m     warnings\u001b[38;5;241m.\u001b[39mwarn(\n\u001b[0;32m    327\u001b[0m         msg\u001b[38;5;241m.\u001b[39mformat(arguments\u001b[38;5;241m=\u001b[39m_format_argument_list(allow_args)),\n\u001b[0;32m    328\u001b[0m         \u001b[38;5;167;01mFutureWarning\u001b[39;00m,\n\u001b[0;32m    329\u001b[0m         stacklevel\u001b[38;5;241m=\u001b[39mfind_stack_level(),\n\u001b[0;32m    330\u001b[0m     )\n\u001b[1;32m--> 331\u001b[0m \u001b[38;5;28;01mreturn\u001b[39;00m func(\u001b[38;5;241m*\u001b[39margs, \u001b[38;5;241m*\u001b[39m\u001b[38;5;241m*\u001b[39mkwargs)\n",
      "File \u001b[1;32m~\\AppData\\Local\\anaconda3\\lib\\site-packages\\pandas\\core\\frame.py:6012\u001b[0m, in \u001b[0;36mDataFrame.set_index\u001b[1;34m(self, keys, drop, append, inplace, verify_integrity)\u001b[0m\n\u001b[0;32m   6009\u001b[0m                 missing\u001b[38;5;241m.\u001b[39mappend(col)\n\u001b[0;32m   6011\u001b[0m \u001b[38;5;28;01mif\u001b[39;00m missing:\n\u001b[1;32m-> 6012\u001b[0m     \u001b[38;5;28;01mraise\u001b[39;00m \u001b[38;5;167;01mKeyError\u001b[39;00m(\u001b[38;5;124mf\u001b[39m\u001b[38;5;124m\"\u001b[39m\u001b[38;5;124mNone of \u001b[39m\u001b[38;5;132;01m{\u001b[39;00mmissing\u001b[38;5;132;01m}\u001b[39;00m\u001b[38;5;124m are in the columns\u001b[39m\u001b[38;5;124m\"\u001b[39m)\n\u001b[0;32m   6014\u001b[0m \u001b[38;5;28;01mif\u001b[39;00m inplace:\n\u001b[0;32m   6015\u001b[0m     frame \u001b[38;5;241m=\u001b[39m \u001b[38;5;28mself\u001b[39m\n",
      "\u001b[1;31mKeyError\u001b[0m: \"None of ['Year'] are in the columns\""
     ]
    }
   ],
   "source": [
    "df_salary = df_salary.rename(columns={\"Median Salary adj. by inflation (pounds)\": \"Average Salary\"})\n",
    "df_salary = df_salary.set_index(\"Year\")\n",
    "df_salary.head(5)"
   ]
  },
  {
   "cell_type": "code",
   "execution_count": 35,
   "id": "51362a8d-a0b7-4006-8de0-76012ce44c8c",
   "metadata": {},
   "outputs": [
    {
     "data": {
      "image/png": "[encoded data removed]",
      "text/plain": [
       "<Figure size 1000x600 with 1 Axes>"
      ]
     },
     "metadata": {},
     "output_type": "display_data"
    }
   ],
   "source": [
    "fig = plt.figure(figsize=(10,6))\n",
    "plt.plot(df_salary.index, df_salary['Average Salary'])\n",
    "plt.xlabel('Year')\n",
    "plt.ylabel('Average Salary')\n",
    "\n",
    "plt.show()"
   ]
  },
  {
   "cell_type": "code",
   "execution_count": 41,
   "id": "1b4fc4ea-6f70-4fe9-9391-543003987289",
   "metadata": {},
   "outputs": [
    {
     "name": "stdout",
     "output_type": "stream",
     "text": [
      "      Average House Price\n",
      "Year                     \n",
      "1999               137401\n",
      "2000               145756\n",
      "2001               163517\n",
      "2002               199821\n",
      "2003               224849\n",
      "2004               247493\n",
      "2005               249549\n",
      "2006               262390\n",
      "2007               269297\n",
      "2008               223507\n",
      "2009               229553\n",
      "2010               220496\n",
      "2011               212111\n",
      "2012               203407\n",
      "2013               212183\n",
      "2014               225514\n",
      "2015               232759\n",
      "2016               237955\n",
      "2017               234936\n",
      "2018               230887\n",
      "2019               227812\n",
      "2020               239753\n"
     ]
    }
   ],
   "source": [
    "df_house_filtered = df_house.query(\"Year >= 1999\")\n",
    "\n",
    "print(df_house_filtered)"
   ]
  },
  {
   "cell_type": "code",
   "execution_count": 43,
   "id": "05fb2afa-0e69-41bf-a7c6-2f7afa344110",
   "metadata": {},
   "outputs": [
    {
     "name": "stdout",
     "output_type": "stream",
     "text": [
      "The correlation is 0.13833992094861663\n",
      "It is not statistically significant.\n"
     ]
    }
   ],
   "source": [
    "correlation = np.corrcoef(df_house_filtered[\"Average House Price\"], df_salary[\"Average Salary\"])[0, 1]\n",
    "(correlation, pValue) = spearmanr(df_house_filtered[\"Average House Price\"], df_salary[\"Average Salary\"])\n",
    "print('The correlation is', correlation)\n",
    "if pValue < 0.05:\n",
    "    print('It is statistically significant.')\n",
    "else:\n",
    "    print('It is not statistically significant.')"
   ]
  },
  {
   "cell_type": "code",
   "execution_count": 46,
   "id": "276b07df-235c-4f18-a488-c81c0c16514f",
   "metadata": {},
   "outputs": [
    {
     "data": {
      "text/html": [
       "<div>\n",
       "<style scoped>\n",
       "    .dataframe tbody tr th:only-of-type {\n",
       "        vertical-align: middle;\n",
       "    }\n",
       "\n",
       "    .dataframe tbody tr th {\n",
       "        vertical-align: top;\n",
       "    }\n",
       "\n",
       "    .dataframe thead th {\n",
       "        text-align: right;\n",
       "    }\n",
       "</style>\n",
       "<table border=\"1\" class=\"dataframe\">\n",
       "  <thead>\n",
       "    <tr style=\"text-align: right;\">\n",
       "      <th></th>\n",
       "      <th>Age group</th>\n",
       "      <th>Median salary (pounds)</th>\n",
       "      <th>Gender</th>\n",
       "    </tr>\n",
       "  </thead>\n",
       "  <tbody>\n",
       "    <tr>\n",
       "      <th>0</th>\n",
       "      <td>18 to 21</td>\n",
       "      <td>18392</td>\n",
       "      <td>Male</td>\n",
       "    </tr>\n",
       "    <tr>\n",
       "      <th>1</th>\n",
       "      <td>22 to 29</td>\n",
       "      <td>26856</td>\n",
       "      <td>Male</td>\n",
       "    </tr>\n",
       "    <tr>\n",
       "      <th>2</th>\n",
       "      <td>30 to 39</td>\n",
       "      <td>34210</td>\n",
       "      <td>Male</td>\n",
       "    </tr>\n",
       "    <tr>\n",
       "      <th>3</th>\n",
       "      <td>40 to 49</td>\n",
       "      <td>38463</td>\n",
       "      <td>Male</td>\n",
       "    </tr>\n",
       "    <tr>\n",
       "      <th>4</th>\n",
       "      <td>50 to 59</td>\n",
       "      <td>36000</td>\n",
       "      <td>Male</td>\n",
       "    </tr>\n",
       "  </tbody>\n",
       "</table>\n",
       "</div>"
      ],
      "text/plain": [
       "  Age group  Median salary (pounds) Gender\n",
       "0  18 to 21                   18392   Male\n",
       "1  22 to 29                   26856   Male\n",
       "2  30 to 39                   34210   Male\n",
       "3  40 to 49                   38463   Male\n",
       "4  50 to 59                   36000   Male"
      ]
     },
     "execution_count": 46,
     "metadata": {},
     "output_type": "execute_result"
    }
   ],
   "source": [
    "df_income.head(5)"
   ]
  },
  {
   "cell_type": "code",
   "execution_count": 55,
   "id": "b9a4d60b-19b3-4ddb-bcc8-073f1a59a632",
   "metadata": {},
   "outputs": [],
   "source": [
    "df_income.head(10)\n",
    "df_income_grouped = df_income.groupby(\"Age group\")\n"
   ]
  },
  {
   "cell_type": "code",
   "execution_count": 56,
   "id": "5719a720-f7a5-456e-8463-ff4ea91094b1",
   "metadata": {},
   "outputs": [
    {
     "data": {
      "text/html": [
       "<div>\n",
       "<style scoped>\n",
       "    .dataframe tbody tr th:only-of-type {\n",
       "        vertical-align: middle;\n",
       "    }\n",
       "\n",
       "    .dataframe tbody tr th {\n",
       "        vertical-align: top;\n",
       "    }\n",
       "\n",
       "    .dataframe thead th {\n",
       "        text-align: right;\n",
       "    }\n",
       "</style>\n",
       "<table border=\"1\" class=\"dataframe\">\n",
       "  <thead>\n",
       "    <tr style=\"text-align: right;\">\n",
       "      <th></th>\n",
       "      <th>Age group</th>\n",
       "      <th>Median salary (pounds)</th>\n",
       "      <th>Gender</th>\n",
       "    </tr>\n",
       "  </thead>\n",
       "  <tbody>\n",
       "    <tr>\n",
       "      <th>0</th>\n",
       "      <td>18 to 21</td>\n",
       "      <td>18392</td>\n",
       "      <td>Male</td>\n",
       "    </tr>\n",
       "    <tr>\n",
       "      <th>1</th>\n",
       "      <td>22 to 29</td>\n",
       "      <td>26856</td>\n",
       "      <td>Male</td>\n",
       "    </tr>\n",
       "    <tr>\n",
       "      <th>2</th>\n",
       "      <td>30 to 39</td>\n",
       "      <td>34210</td>\n",
       "      <td>Male</td>\n",
       "    </tr>\n",
       "    <tr>\n",
       "      <th>3</th>\n",
       "      <td>40 to 49</td>\n",
       "      <td>38463</td>\n",
       "      <td>Male</td>\n",
       "    </tr>\n",
       "    <tr>\n",
       "      <th>4</th>\n",
       "      <td>50 to 59</td>\n",
       "      <td>36000</td>\n",
       "      <td>Male</td>\n",
       "    </tr>\n",
       "    <tr>\n",
       "      <th>5</th>\n",
       "      <td>60 and over</td>\n",
       "      <td>30944</td>\n",
       "      <td>Male</td>\n",
       "    </tr>\n",
       "    <tr>\n",
       "      <th>6</th>\n",
       "      <td>18 to 21</td>\n",
       "      <td>17005</td>\n",
       "      <td>Female</td>\n",
       "    </tr>\n",
       "    <tr>\n",
       "      <th>7</th>\n",
       "      <td>22 to 29</td>\n",
       "      <td>25115</td>\n",
       "      <td>Female</td>\n",
       "    </tr>\n",
       "    <tr>\n",
       "      <th>8</th>\n",
       "      <td>30 to 39</td>\n",
       "      <td>30540</td>\n",
       "      <td>Female</td>\n",
       "    </tr>\n",
       "    <tr>\n",
       "      <th>9</th>\n",
       "      <td>40 to 49</td>\n",
       "      <td>31679</td>\n",
       "      <td>Female</td>\n",
       "    </tr>\n",
       "    <tr>\n",
       "      <th>10</th>\n",
       "      <td>50 to 59</td>\n",
       "      <td>28811</td>\n",
       "      <td>Female</td>\n",
       "    </tr>\n",
       "    <tr>\n",
       "      <th>11</th>\n",
       "      <td>60 and over</td>\n",
       "      <td>24850</td>\n",
       "      <td>Female</td>\n",
       "    </tr>\n",
       "  </tbody>\n",
       "</table>\n",
       "</div>"
      ],
      "text/plain": [
       "      Age group  Median salary (pounds)  Gender\n",
       "0      18 to 21                   18392    Male\n",
       "1      22 to 29                   26856    Male\n",
       "2      30 to 39                   34210    Male\n",
       "3      40 to 49                   38463    Male\n",
       "4      50 to 59                   36000    Male\n",
       "5   60 and over                   30944    Male\n",
       "6      18 to 21                   17005  Female\n",
       "7      22 to 29                   25115  Female\n",
       "8      30 to 39                   30540  Female\n",
       "9      40 to 49                   31679  Female\n",
       "10     50 to 59                   28811  Female\n",
       "11  60 and over                   24850  Female"
      ]
     },
     "execution_count": 56,
     "metadata": {},
     "output_type": "execute_result"
    }
   ],
   "source": [
    "df_income_grouped.head()"
   ]
  },
  {
   "cell_type": "code",
   "execution_count": null,
   "id": "b088cb93-1b3d-4805-9bfd-814d1a7abd51",
   "metadata": {},
   "outputs": [],
   "source": []
  }
 ],
 "metadata": {
  "kernelspec": {
   "display_name": "Python 3 (ipykernel)",
   "language": "python",
   "name": "python3"
  },
  "language_info": {
   "codemirror_mode": {
    "name": "ipython",
    "version": 3
   },
   "file_extension": ".py",
   "mimetype": "text/x-python",
   "name": "python",
   "nbconvert_exporter": "python",
   "pygments_lexer": "ipython3",
   "version": "3.10.9"
  }
 },
 "nbformat": 4,
 "nbformat_minor": 5
}
